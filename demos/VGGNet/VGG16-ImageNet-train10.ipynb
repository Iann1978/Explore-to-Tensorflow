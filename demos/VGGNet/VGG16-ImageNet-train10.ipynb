{
 "cells": [
  {
   "cell_type": "code",
   "execution_count": 1,
   "metadata": {},
   "outputs": [
    {
     "name": "stderr",
     "output_type": "stream",
     "text": [
      "Using TensorFlow backend.\n"
     ]
    }
   ],
   "source": [
    "# Import keras and other Utils\n",
    "import pltutils as pltu\n",
    "import matplotlib.pyplot as plt\n",
    "import numpy as np\n",
    "import math\n",
    "import cv2\n",
    "import tensorflow as tf\n",
    "import os\n",
    "\n",
    "\n",
    "from keras.datasets import mnist\n",
    "from keras.datasets import cifar10\n",
    "from keras.utils import np_utils\n",
    "from keras.models import Sequential, Model\n",
    "from keras.layers import Dense, Activation, Conv2D\n",
    "from keras.layers import Reshape, MaxPooling2D, Flatten\n",
    "from keras.layers import Input, InputLayer, Lambda, Dropout\n",
    "from keras.layers import BatchNormalization,Softmax\n",
    "from keras.optimizers import RMSprop\n",
    "from keras import backend as K\n",
    "from keras.preprocessing.image import ImageDataGenerator \n",
    "from keras.callbacks import ModelCheckpoint"
   ]
  },
  {
   "cell_type": "code",
   "execution_count": 2,
   "metadata": {},
   "outputs": [],
   "source": [
    "%matplotlib inline\n",
    "plt.style.use('seaborn-whitegrid')"
   ]
  },
  {
   "cell_type": "code",
   "execution_count": 3,
   "metadata": {},
   "outputs": [
    {
     "name": "stdout",
     "output_type": "stream",
     "text": [
      "Model: \"sequential_1\"\n",
      "_________________________________________________________________\n",
      "Layer (type)                 Output Shape              Param #   \n",
      "=================================================================\n",
      "conv2d_1 (Conv2D)            (None, 224, 224, 64)      1792      \n",
      "_________________________________________________________________\n",
      "conv2d_2 (Conv2D)            (None, 224, 224, 64)      36928     \n",
      "_________________________________________________________________\n",
      "max_pooling2d_1 (MaxPooling2 (None, 112, 112, 64)      0         \n",
      "_________________________________________________________________\n",
      "conv2d_3 (Conv2D)            (None, 112, 112, 128)     73856     \n",
      "_________________________________________________________________\n",
      "conv2d_4 (Conv2D)            (None, 112, 112, 128)     147584    \n",
      "_________________________________________________________________\n",
      "max_pooling2d_2 (MaxPooling2 (None, 56, 56, 128)       0         \n",
      "_________________________________________________________________\n",
      "conv2d_5 (Conv2D)            (None, 56, 56, 256)       295168    \n",
      "_________________________________________________________________\n",
      "conv2d_6 (Conv2D)            (None, 56, 56, 256)       590080    \n",
      "_________________________________________________________________\n",
      "conv2d_7 (Conv2D)            (None, 56, 56, 256)       590080    \n",
      "_________________________________________________________________\n",
      "max_pooling2d_3 (MaxPooling2 (None, 28, 28, 256)       0         \n",
      "_________________________________________________________________\n",
      "conv2d_8 (Conv2D)            (None, 28, 28, 512)       1180160   \n",
      "_________________________________________________________________\n",
      "conv2d_9 (Conv2D)            (None, 28, 28, 512)       2359808   \n",
      "_________________________________________________________________\n",
      "conv2d_10 (Conv2D)           (None, 28, 28, 512)       2359808   \n",
      "_________________________________________________________________\n",
      "max_pooling2d_4 (MaxPooling2 (None, 14, 14, 512)       0         \n",
      "_________________________________________________________________\n",
      "conv2d_11 (Conv2D)           (None, 14, 14, 512)       2359808   \n",
      "_________________________________________________________________\n",
      "conv2d_12 (Conv2D)           (None, 14, 14, 512)       2359808   \n",
      "_________________________________________________________________\n",
      "conv2d_13 (Conv2D)           (None, 14, 14, 512)       2359808   \n",
      "_________________________________________________________________\n",
      "max_pooling2d_5 (MaxPooling2 (None, 7, 7, 512)         0         \n",
      "_________________________________________________________________\n",
      "flatten_1 (Flatten)          (None, 25088)             0         \n",
      "_________________________________________________________________\n",
      "dropout_1 (Dropout)          (None, 25088)             0         \n",
      "_________________________________________________________________\n",
      "dense_1 (Dense)              (None, 4096)              102764544 \n",
      "_________________________________________________________________\n",
      "dropout_2 (Dropout)          (None, 4096)              0         \n",
      "_________________________________________________________________\n",
      "dense_2 (Dense)              (None, 4096)              16781312  \n",
      "_________________________________________________________________\n",
      "dense_3 (Dense)              (None, 10)                40970     \n",
      "=================================================================\n",
      "Total params: 134,301,514\n",
      "Trainable params: 134,301,514\n",
      "Non-trainable params: 0\n",
      "_________________________________________________________________\n",
      "None\n"
     ]
    }
   ],
   "source": [
    "# Create Model\n",
    "model = Sequential()\n",
    "model.add(Conv2D(filters=64,kernel_size=(3,3),strides=(1,1),padding='same',input_shape=(224,224,3),activation='relu'))\n",
    "model.add(Conv2D(filters=64,kernel_size=(3,3),strides=(1,1),padding='same',activation='relu'))\n",
    "\n",
    "model.add(MaxPooling2D(pool_size=(2,2),strides=(2,2),padding='valid'))\n",
    "model.add(Conv2D(128,(3,3),padding='same',activation='relu'))\n",
    "model.add(Conv2D(128,(3,3),padding='same',activation='relu'))\n",
    "\n",
    "model.add(MaxPooling2D((2,2)))\n",
    "model.add(Conv2D(256,(3,3),padding='same',activation='relu'))\n",
    "model.add(Conv2D(256,(3,3),padding='same',activation='relu'))\n",
    "model.add(Conv2D(256,(3,3),padding='same',activation='relu'))\n",
    "\n",
    "model.add(MaxPooling2D((2,2)))\n",
    "model.add(Conv2D(512,(3,3),padding='same',activation='relu'))\n",
    "model.add(Conv2D(512,(3,3),padding='same',activation='relu'))\n",
    "model.add(Conv2D(512,(3,3),padding='same',activation='relu'))\n",
    "\n",
    "model.add(MaxPooling2D((2,2)))\n",
    "model.add(Conv2D(512,(3,3),padding='same',activation='relu'))\n",
    "model.add(Conv2D(512,(3,3),padding='same',activation='relu'))\n",
    "model.add(Conv2D(512,(3,3),padding='same',activation='relu'))\n",
    "\n",
    "model.add(MaxPooling2D((2,2)))\n",
    "model.add(Flatten())\n",
    "model.add(Dropout(0.5))\n",
    "model.add(Dense(4096,activation='relu'))\n",
    "model.add(Dropout(0.5))\n",
    "model.add(Dense(4096,activation='relu'))\n",
    "model.add(Dense(10,activation='softmax'))\n",
    "print (model.summary())"
   ]
  },
  {
   "cell_type": "code",
   "execution_count": 4,
   "metadata": {},
   "outputs": [],
   "source": [
    "import keras\n",
    "model.compile(loss=keras.losses.categorical_crossentropy,\n",
    "              optimizer = keras.optimizers.SGD(lr=0.0005,learning_rate=0.001, decay=1e-6, momentum=0.9, nesterov=True),\n",
    "              metrics=['accuracy'])"
   ]
  },
  {
   "cell_type": "code",
   "execution_count": 7,
   "metadata": {},
   "outputs": [],
   "source": [
    "model.compile(loss='categorical_crossentropy',\n",
    "              optimizer='ad',\n",
    "              metrics=['accuracy'])"
   ]
  },
  {
   "cell_type": "code",
   "execution_count": 5,
   "metadata": {},
   "outputs": [
    {
     "name": "stdout",
     "output_type": "stream",
     "text": [
      "Found 13000 images belonging to 10 classes.\n",
      "Found 500 images belonging to 10 classes.\n"
     ]
    }
   ],
   "source": [
    "\n",
    "batch_size = 32\n",
    " \n",
    "\n",
    "#实例化对象datagen\n",
    "datagen=ImageDataGenerator()   \n",
    " \n",
    "#读训练集图片\n",
    "train_generator = datagen.flow_from_directory(\n",
    "    'e:/tensorflow/data/ImageNet/train10',\n",
    "    target_size=(224, 224),\n",
    "    class_mode='categorical',\n",
    "    batch_size=batch_size)\n",
    "\n",
    "validation_generator = datagen.flow_from_directory(\n",
    "    'e:/tensorflow/data/ImageNet/val10',\n",
    "    target_size=(224, 224),\n",
    "    class_mode='categorical',\n",
    "    batch_size=batch_size)\n",
    " "
   ]
  },
  {
   "cell_type": "code",
   "execution_count": 6,
   "metadata": {},
   "outputs": [
    {
     "name": "stdout",
     "output_type": "stream",
     "text": [
      "checkpoints/vgg16-train10\n"
     ]
    }
   ],
   "source": [
    "import os\n",
    "checkpoint_path = \"checkpoints/vgg16-train10/checkpoint-weights_only-epoch{epoch:04d}-valacc{val_accuracy:.4f}.ckpt\"\n",
    "checkpoint_dir = os.path.dirname(checkpoint_path)\n",
    "print(checkpoint_dir)\n",
    "cp_callback=ModelCheckpoint(checkpoint_path, verbose=1, save_weights_only=True,period=1)"
   ]
  },
  {
   "cell_type": "code",
   "execution_count": 7,
   "metadata": {},
   "outputs": [],
   "source": [
    "model.save('checkpoints/vgg16-train10/model.h5')"
   ]
  },
  {
   "cell_type": "code",
   "execution_count": 8,
   "metadata": {},
   "outputs": [
    {
     "name": "stdout",
     "output_type": "stream",
     "text": [
      "Epoch 1/50\n",
      "407/406 [==============================] - 196s 482ms/step - loss: 1.9320 - accuracy: 0.2368 - val_loss: 1.9091 - val_accuracy: 0.2900\n",
      "\n",
      "Epoch 00001: saving model to checkpoints/vgg16-train10/checkpoint-weights_only-epoch0001-valacc0.2900.ckpt\n",
      "Epoch 2/50\n",
      "407/406 [==============================] - 191s 468ms/step - loss: 1.6052 - accuracy: 0.3769 - val_loss: 1.6487 - val_accuracy: 0.4480\n",
      "\n",
      "Epoch 00002: saving model to checkpoints/vgg16-train10/checkpoint-weights_only-epoch0002-valacc0.4480.ckpt\n",
      "Epoch 3/50\n",
      "407/406 [==============================] - 189s 466ms/step - loss: 1.4544 - accuracy: 0.4505 - val_loss: 1.5212 - val_accuracy: 0.5000\n",
      "\n",
      "Epoch 00003: saving model to checkpoints/vgg16-train10/checkpoint-weights_only-epoch0003-valacc0.5000.ckpt\n",
      "Epoch 4/50\n",
      "407/406 [==============================] - 190s 466ms/step - loss: 1.3693 - accuracy: 0.4773 - val_loss: 1.6007 - val_accuracy: 0.5180\n",
      "\n",
      "Epoch 00004: saving model to checkpoints/vgg16-train10/checkpoint-weights_only-epoch0004-valacc0.5180.ckpt\n",
      "Epoch 5/50\n",
      "407/406 [==============================] - 190s 466ms/step - loss: 1.2948 - accuracy: 0.5078 - val_loss: 1.5506 - val_accuracy: 0.4600\n",
      "\n",
      "Epoch 00005: saving model to checkpoints/vgg16-train10/checkpoint-weights_only-epoch0005-valacc0.4600.ckpt\n",
      "Epoch 6/50\n",
      "407/406 [==============================] - 188s 463ms/step - loss: 1.2353 - accuracy: 0.5330 - val_loss: 1.0377 - val_accuracy: 0.5320\n",
      "\n",
      "Epoch 00006: saving model to checkpoints/vgg16-train10/checkpoint-weights_only-epoch0006-valacc0.5320.ckpt\n",
      "Epoch 7/50\n",
      "407/406 [==============================] - 190s 467ms/step - loss: 1.1934 - accuracy: 0.5438 - val_loss: 1.1001 - val_accuracy: 0.5660\n",
      "\n",
      "Epoch 00007: saving model to checkpoints/vgg16-train10/checkpoint-weights_only-epoch0007-valacc0.5660.ckpt\n",
      "Epoch 8/50\n",
      "407/406 [==============================] - 190s 467ms/step - loss: 1.1567 - accuracy: 0.5594 - val_loss: 1.6441 - val_accuracy: 0.5600\n",
      "\n",
      "Epoch 00008: saving model to checkpoints/vgg16-train10/checkpoint-weights_only-epoch0008-valacc0.5600.ckpt\n",
      "Epoch 9/50\n",
      "407/406 [==============================] - 190s 468ms/step - loss: 1.1257 - accuracy: 0.5650 - val_loss: 1.2225 - val_accuracy: 0.5660\n",
      "\n",
      "Epoch 00009: saving model to checkpoints/vgg16-train10/checkpoint-weights_only-epoch0009-valacc0.5660.ckpt\n",
      "Epoch 10/50\n",
      "407/406 [==============================] - 190s 467ms/step - loss: 1.0918 - accuracy: 0.5818 - val_loss: 1.3333 - val_accuracy: 0.5860\n",
      "\n",
      "Epoch 00010: saving model to checkpoints/vgg16-train10/checkpoint-weights_only-epoch0010-valacc0.5860.ckpt\n",
      "Epoch 11/50\n",
      "407/406 [==============================] - 190s 467ms/step - loss: 1.0639 - accuracy: 0.5875 - val_loss: 0.7871 - val_accuracy: 0.5840\n",
      "\n",
      "Epoch 00011: saving model to checkpoints/vgg16-train10/checkpoint-weights_only-epoch0011-valacc0.5840.ckpt\n",
      "Epoch 12/50\n",
      "407/406 [==============================] - 189s 465ms/step - loss: 1.0372 - accuracy: 0.5999 - val_loss: 0.9679 - val_accuracy: 0.5980\n",
      "\n",
      "Epoch 00012: saving model to checkpoints/vgg16-train10/checkpoint-weights_only-epoch0012-valacc0.5980.ckpt\n",
      "Epoch 13/50\n",
      "407/406 [==============================] - 190s 466ms/step - loss: 1.0163 - accuracy: 0.6109 - val_loss: 1.2605 - val_accuracy: 0.6060\n",
      "\n",
      "Epoch 00013: saving model to checkpoints/vgg16-train10/checkpoint-weights_only-epoch0013-valacc0.6060.ckpt\n",
      "Epoch 14/50\n",
      "407/406 [==============================] - 192s 471ms/step - loss: 0.9983 - accuracy: 0.6177 - val_loss: 0.9826 - val_accuracy: 0.6160\n",
      "\n",
      "Epoch 00014: saving model to checkpoints/vgg16-train10/checkpoint-weights_only-epoch0014-valacc0.6160.ckpt\n",
      "Epoch 15/50\n",
      "407/406 [==============================] - 191s 470ms/step - loss: 0.9683 - accuracy: 0.6261 - val_loss: 0.8771 - val_accuracy: 0.6120\n",
      "\n",
      "Epoch 00015: saving model to checkpoints/vgg16-train10/checkpoint-weights_only-epoch0015-valacc0.6120.ckpt\n",
      "Epoch 16/50\n",
      "407/406 [==============================] - 192s 471ms/step - loss: 0.9539 - accuracy: 0.6299 - val_loss: 0.7801 - val_accuracy: 0.6100\n",
      "\n",
      "Epoch 00016: saving model to checkpoints/vgg16-train10/checkpoint-weights_only-epoch0016-valacc0.6100.ckpt\n",
      "Epoch 17/50\n",
      "407/406 [==============================] - 191s 469ms/step - loss: 0.9307 - accuracy: 0.6438 - val_loss: 1.6120 - val_accuracy: 0.6400\n",
      "\n",
      "Epoch 00017: saving model to checkpoints/vgg16-train10/checkpoint-weights_only-epoch0017-valacc0.6400.ckpt\n",
      "Epoch 18/50\n",
      "407/406 [==============================] - 192s 472ms/step - loss: 0.9035 - accuracy: 0.6515 - val_loss: 0.8545 - val_accuracy: 0.6140\n",
      "\n",
      "Epoch 00018: saving model to checkpoints/vgg16-train10/checkpoint-weights_only-epoch0018-valacc0.6140.ckpt\n",
      "Epoch 19/50\n",
      "407/406 [==============================] - 191s 470ms/step - loss: 0.8951 - accuracy: 0.6568 - val_loss: 0.8570 - val_accuracy: 0.6220\n",
      "\n",
      "Epoch 00019: saving model to checkpoints/vgg16-train10/checkpoint-weights_only-epoch0019-valacc0.6220.ckpt\n",
      "Epoch 20/50\n",
      "407/406 [==============================] - 191s 470ms/step - loss: 0.8664 - accuracy: 0.6673 - val_loss: 0.9014 - val_accuracy: 0.6520\n",
      "\n",
      "Epoch 00020: saving model to checkpoints/vgg16-train10/checkpoint-weights_only-epoch0020-valacc0.6520.ckpt\n",
      "Epoch 21/50\n",
      "407/406 [==============================] - 192s 471ms/step - loss: 0.8473 - accuracy: 0.6712 - val_loss: 1.0028 - val_accuracy: 0.6300\n",
      "\n",
      "Epoch 00021: saving model to checkpoints/vgg16-train10/checkpoint-weights_only-epoch0021-valacc0.6300.ckpt\n",
      "Epoch 22/50\n",
      "407/406 [==============================] - 192s 472ms/step - loss: 0.8269 - accuracy: 0.6843 - val_loss: 0.7006 - val_accuracy: 0.6220\n",
      "\n",
      "Epoch 00022: saving model to checkpoints/vgg16-train10/checkpoint-weights_only-epoch0022-valacc0.6220.ckpt\n",
      "Epoch 23/50\n",
      "407/406 [==============================] - 191s 469ms/step - loss: 0.8110 - accuracy: 0.6885 - val_loss: 0.5907 - val_accuracy: 0.6460\n",
      "\n",
      "Epoch 00023: saving model to checkpoints/vgg16-train10/checkpoint-weights_only-epoch0023-valacc0.6460.ckpt\n",
      "Epoch 24/50\n",
      "407/406 [==============================] - 191s 470ms/step - loss: 0.7853 - accuracy: 0.6973 - val_loss: 0.8347 - val_accuracy: 0.6420\n",
      "\n",
      "Epoch 00024: saving model to checkpoints/vgg16-train10/checkpoint-weights_only-epoch0024-valacc0.6420.ckpt\n",
      "Epoch 25/50\n",
      "407/406 [==============================] - 190s 468ms/step - loss: 0.7729 - accuracy: 0.7019 - val_loss: 0.3964 - val_accuracy: 0.6280\n",
      "\n",
      "Epoch 00025: saving model to checkpoints/vgg16-train10/checkpoint-weights_only-epoch0025-valacc0.6280.ckpt\n",
      "Epoch 26/50\n",
      "407/406 [==============================] - 191s 469ms/step - loss: 0.7503 - accuracy: 0.7125 - val_loss: 0.4520 - val_accuracy: 0.6420\n",
      "\n",
      "Epoch 00026: saving model to checkpoints/vgg16-train10/checkpoint-weights_only-epoch0026-valacc0.6420.ckpt\n",
      "Epoch 27/50\n",
      "407/406 [==============================] - 191s 469ms/step - loss: 0.7198 - accuracy: 0.7232 - val_loss: 1.6309 - val_accuracy: 0.6480\n",
      "\n",
      "Epoch 00027: saving model to checkpoints/vgg16-train10/checkpoint-weights_only-epoch0027-valacc0.6480.ckpt\n",
      "Epoch 28/50\n",
      "407/406 [==============================] - 190s 467ms/step - loss: 0.7142 - accuracy: 0.7287 - val_loss: 0.6192 - val_accuracy: 0.6320\n",
      "\n",
      "Epoch 00028: saving model to checkpoints/vgg16-train10/checkpoint-weights_only-epoch0028-valacc0.6320.ckpt\n",
      "Epoch 29/50\n",
      "407/406 [==============================] - 190s 468ms/step - loss: 0.6872 - accuracy: 0.7362 - val_loss: 0.8751 - val_accuracy: 0.6580\n",
      "\n",
      "Epoch 00029: saving model to checkpoints/vgg16-train10/checkpoint-weights_only-epoch0029-valacc0.6580.ckpt\n",
      "Epoch 30/50\n",
      "407/406 [==============================] - 191s 468ms/step - loss: 0.6595 - accuracy: 0.7464 - val_loss: 1.0337 - val_accuracy: 0.6320\n",
      "\n",
      "Epoch 00030: saving model to checkpoints/vgg16-train10/checkpoint-weights_only-epoch0030-valacc0.6320.ckpt\n",
      "Epoch 31/50\n",
      "407/406 [==============================] - 190s 468ms/step - loss: 0.6471 - accuracy: 0.7532 - val_loss: 1.0576 - val_accuracy: 0.6420\n",
      "\n",
      "Epoch 00031: saving model to checkpoints/vgg16-train10/checkpoint-weights_only-epoch0031-valacc0.6420.ckpt\n",
      "Epoch 32/50\n",
      "407/406 [==============================] - 190s 468ms/step - loss: 0.6288 - accuracy: 0.7579 - val_loss: 1.3679 - val_accuracy: 0.6540\n",
      "\n",
      "Epoch 00032: saving model to checkpoints/vgg16-train10/checkpoint-weights_only-epoch0032-valacc0.6540.ckpt\n",
      "Epoch 33/50\n"
     ]
    },
    {
     "name": "stdout",
     "output_type": "stream",
     "text": [
      "407/406 [==============================] - 191s 469ms/step - loss: 0.6088 - accuracy: 0.7688 - val_loss: 1.8165 - val_accuracy: 0.6660\n",
      "\n",
      "Epoch 00033: saving model to checkpoints/vgg16-train10/checkpoint-weights_only-epoch0033-valacc0.6660.ckpt\n",
      "Epoch 34/50\n",
      "407/406 [==============================] - 190s 468ms/step - loss: 0.5975 - accuracy: 0.7733 - val_loss: 0.6070 - val_accuracy: 0.6580\n",
      "\n",
      "Epoch 00034: saving model to checkpoints/vgg16-train10/checkpoint-weights_only-epoch0034-valacc0.6580.ckpt\n",
      "Epoch 35/50\n",
      "407/406 [==============================] - 191s 469ms/step - loss: 0.5570 - accuracy: 0.7899 - val_loss: 0.7899 - val_accuracy: 0.6620\n",
      "\n",
      "Epoch 00035: saving model to checkpoints/vgg16-train10/checkpoint-weights_only-epoch0035-valacc0.6620.ckpt\n",
      "Epoch 36/50\n",
      "407/406 [==============================] - 190s 468ms/step - loss: 0.5432 - accuracy: 0.7943 - val_loss: 0.7715 - val_accuracy: 0.6780\n",
      "\n",
      "Epoch 00036: saving model to checkpoints/vgg16-train10/checkpoint-weights_only-epoch0036-valacc0.6780.ckpt\n",
      "Epoch 37/50\n",
      "407/406 [==============================] - 191s 469ms/step - loss: 0.5325 - accuracy: 0.7952 - val_loss: 1.2369 - val_accuracy: 0.6660\n",
      "\n",
      "Epoch 00037: saving model to checkpoints/vgg16-train10/checkpoint-weights_only-epoch0037-valacc0.6660.ckpt\n",
      "Epoch 38/50\n",
      "407/406 [==============================] - 190s 468ms/step - loss: 0.5136 - accuracy: 0.8045 - val_loss: 0.6073 - val_accuracy: 0.6780\n",
      "\n",
      "Epoch 00038: saving model to checkpoints/vgg16-train10/checkpoint-weights_only-epoch0038-valacc0.6780.ckpt\n",
      "Epoch 39/50\n",
      "407/406 [==============================] - 191s 469ms/step - loss: 0.4840 - accuracy: 0.8158 - val_loss: 2.0290 - val_accuracy: 0.6440\n",
      "\n",
      "Epoch 00039: saving model to checkpoints/vgg16-train10/checkpoint-weights_only-epoch0039-valacc0.6440.ckpt\n",
      "Epoch 40/50\n",
      "407/406 [==============================] - 191s 470ms/step - loss: 0.4727 - accuracy: 0.8190 - val_loss: 1.3838 - val_accuracy: 0.6400\n",
      "\n",
      "Epoch 00040: saving model to checkpoints/vgg16-train10/checkpoint-weights_only-epoch0040-valacc0.6400.ckpt\n",
      "Epoch 41/50\n",
      "407/406 [==============================] - 191s 470ms/step - loss: 0.5365 - accuracy: 0.7981 - val_loss: 0.9614 - val_accuracy: 0.6660\n",
      "\n",
      "Epoch 00041: saving model to checkpoints/vgg16-train10/checkpoint-weights_only-epoch0041-valacc0.6660.ckpt\n",
      "Epoch 42/50\n",
      "407/406 [==============================] - 192s 472ms/step - loss: 0.4517 - accuracy: 0.8310 - val_loss: 0.9565 - val_accuracy: 0.6580\n",
      "\n",
      "Epoch 00042: saving model to checkpoints/vgg16-train10/checkpoint-weights_only-epoch0042-valacc0.6580.ckpt\n",
      "Epoch 43/50\n",
      "407/406 [==============================] - 192s 471ms/step - loss: 0.4246 - accuracy: 0.8398 - val_loss: 0.9921 - val_accuracy: 0.6800\n",
      "\n",
      "Epoch 00043: saving model to checkpoints/vgg16-train10/checkpoint-weights_only-epoch0043-valacc0.6800.ckpt\n",
      "Epoch 44/50\n",
      "407/406 [==============================] - 191s 470ms/step - loss: 0.4149 - accuracy: 0.8448 - val_loss: 1.5714 - val_accuracy: 0.6560\n",
      "\n",
      "Epoch 00044: saving model to checkpoints/vgg16-train10/checkpoint-weights_only-epoch0044-valacc0.6560.ckpt\n",
      "Epoch 45/50\n",
      "407/406 [==============================] - 192s 471ms/step - loss: 0.3784 - accuracy: 0.8592 - val_loss: 1.4243 - val_accuracy: 0.6560\n",
      "\n",
      "Epoch 00045: saving model to checkpoints/vgg16-train10/checkpoint-weights_only-epoch0045-valacc0.6560.ckpt\n",
      "Epoch 46/50\n",
      "407/406 [==============================] - 191s 470ms/step - loss: 0.3799 - accuracy: 0.8570 - val_loss: 0.9559 - val_accuracy: 0.6780\n",
      "\n",
      "Epoch 00046: saving model to checkpoints/vgg16-train10/checkpoint-weights_only-epoch0046-valacc0.6780.ckpt\n",
      "Epoch 47/50\n",
      "407/406 [==============================] - 192s 471ms/step - loss: 0.3445 - accuracy: 0.8695 - val_loss: 1.9871 - val_accuracy: 0.6720\n",
      "\n",
      "Epoch 00047: saving model to checkpoints/vgg16-train10/checkpoint-weights_only-epoch0047-valacc0.6720.ckpt\n",
      "Epoch 48/50\n",
      "407/406 [==============================] - 191s 469ms/step - loss: 0.3364 - accuracy: 0.8762 - val_loss: 2.0833 - val_accuracy: 0.6640\n",
      "\n",
      "Epoch 00048: saving model to checkpoints/vgg16-train10/checkpoint-weights_only-epoch0048-valacc0.6640.ckpt\n",
      "Epoch 49/50\n",
      "407/406 [==============================] - 191s 470ms/step - loss: 0.3448 - accuracy: 0.8721 - val_loss: 0.7158 - val_accuracy: 0.6500\n",
      "\n",
      "Epoch 00049: saving model to checkpoints/vgg16-train10/checkpoint-weights_only-epoch0049-valacc0.6500.ckpt\n",
      "Epoch 50/50\n",
      "407/406 [==============================] - 191s 469ms/step - loss: 0.3099 - accuracy: 0.8884 - val_loss: 0.3299 - val_accuracy: 0.6680\n",
      "\n",
      "Epoch 00050: saving model to checkpoints/vgg16-train10/checkpoint-weights_only-epoch0050-valacc0.6680.ckpt\n"
     ]
    },
    {
     "data": {
      "text/plain": [
       "<keras.callbacks.callbacks.History at 0x1df57138748>"
      ]
     },
     "execution_count": 8,
     "metadata": {},
     "output_type": "execute_result"
    }
   ],
   "source": [
    "model.fit_generator(generator=train_generator,steps_per_epoch=13000/batch_size,epochs=50\n",
    "                   ,callbacks=[cp_callback],\n",
    "                   validation_data=validation_generator,validation_steps=32)\n"
   ]
  },
  {
   "cell_type": "code",
   "execution_count": 24,
   "metadata": {},
   "outputs": [
    {
     "data": {
      "text/plain": [
       "[4.366829872131348, 0.5139999985694885]"
      ]
     },
     "execution_count": 24,
     "metadata": {},
     "output_type": "execute_result"
    }
   ],
   "source": [
    "model.load_weights('./checkpoints/vgg16-train10/checkpoint-weights_only-epoch0035-accuracy0.9879.ckpt')\n",
    "model.evaluate_generator(generator=validation_generator)"
   ]
  },
  {
   "cell_type": "code",
   "execution_count": 28,
   "metadata": {},
   "outputs": [
    {
     "data": {
      "text/plain": [
       "[2.3664863109588623, 0.09799999743700027]"
      ]
     },
     "execution_count": 28,
     "metadata": {},
     "output_type": "execute_result"
    }
   ],
   "source": [
    "model.evaluate_generator(generator=validation_generator)"
   ]
  },
  {
   "cell_type": "code",
   "execution_count": null,
   "metadata": {},
   "outputs": [],
   "source": [
    "\n",
    "\n",
    "\n",
    "\n",
    "\n",
    "\n",
    "\n",
    "\n",
    "\n",
    "\n",
    "\n",
    "\n",
    "\n",
    "\n",
    "\n",
    "\n",
    "\n",
    "\n"
   ]
  }
 ],
 "metadata": {
  "kernelspec": {
   "display_name": "Python 3",
   "language": "python",
   "name": "python3"
  },
  "language_info": {
   "codemirror_mode": {
    "name": "ipython",
    "version": 3
   },
   "file_extension": ".py",
   "mimetype": "text/x-python",
   "name": "python",
   "nbconvert_exporter": "python",
   "pygments_lexer": "ipython3",
   "version": "3.7.6"
  }
 },
 "nbformat": 4,
 "nbformat_minor": 4
}
