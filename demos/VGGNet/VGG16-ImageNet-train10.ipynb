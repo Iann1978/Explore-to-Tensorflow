{
 "cells": [
  {
   "cell_type": "code",
   "execution_count": 1,
   "metadata": {},
   "outputs": [
    {
     "name": "stderr",
     "output_type": "stream",
     "text": [
      "Using TensorFlow backend.\n"
     ]
    }
   ],
   "source": [
    "# Import keras and other Utils\n",
    "import pltutils as pltu\n",
    "import matplotlib.pyplot as plt\n",
    "import numpy as np\n",
    "import math\n",
    "import cv2\n",
    "import tensorflow as tf\n",
    "import os\n",
    "\n",
    "\n",
    "from keras.datasets import mnist\n",
    "from keras.datasets import cifar10\n",
    "from keras.utils import np_utils\n",
    "from keras.models import Sequential, Model\n",
    "from keras.layers import Dense, Activation, Conv2D\n",
    "from keras.layers import Reshape, MaxPooling2D, Flatten\n",
    "from keras.layers import Input, InputLayer, Lambda, Dropout\n",
    "from keras.layers import BatchNormalization,Softmax\n",
    "from keras.optimizers import RMSprop\n",
    "from keras import backend as K\n",
    "from keras.preprocessing.image import ImageDataGenerator \n",
    "from keras.callbacks import ModelCheckpoint"
   ]
  },
  {
   "cell_type": "code",
   "execution_count": 2,
   "metadata": {},
   "outputs": [],
   "source": [
    "%matplotlib inline\n",
    "plt.style.use('seaborn-whitegrid')"
   ]
  },
  {
   "cell_type": "code",
   "execution_count": 18,
   "metadata": {},
   "outputs": [
    {
     "name": "stdout",
     "output_type": "stream",
     "text": [
      "Model: \"sequential_3\"\n",
      "_________________________________________________________________\n",
      "Layer (type)                 Output Shape              Param #   \n",
      "=================================================================\n",
      "conv2d_27 (Conv2D)           (None, 224, 224, 64)      1792      \n",
      "_________________________________________________________________\n",
      "conv2d_28 (Conv2D)           (None, 224, 224, 64)      36928     \n",
      "_________________________________________________________________\n",
      "max_pooling2d_11 (MaxPooling (None, 112, 112, 64)      0         \n",
      "_________________________________________________________________\n",
      "conv2d_29 (Conv2D)           (None, 112, 112, 128)     73856     \n",
      "_________________________________________________________________\n",
      "conv2d_30 (Conv2D)           (None, 112, 112, 128)     147584    \n",
      "_________________________________________________________________\n",
      "max_pooling2d_12 (MaxPooling (None, 56, 56, 128)       0         \n",
      "_________________________________________________________________\n",
      "conv2d_31 (Conv2D)           (None, 56, 56, 256)       295168    \n",
      "_________________________________________________________________\n",
      "conv2d_32 (Conv2D)           (None, 56, 56, 256)       590080    \n",
      "_________________________________________________________________\n",
      "conv2d_33 (Conv2D)           (None, 56, 56, 256)       590080    \n",
      "_________________________________________________________________\n",
      "max_pooling2d_13 (MaxPooling (None, 28, 28, 256)       0         \n",
      "_________________________________________________________________\n",
      "conv2d_34 (Conv2D)           (None, 28, 28, 512)       1180160   \n",
      "_________________________________________________________________\n",
      "conv2d_35 (Conv2D)           (None, 28, 28, 512)       2359808   \n",
      "_________________________________________________________________\n",
      "conv2d_36 (Conv2D)           (None, 28, 28, 512)       2359808   \n",
      "_________________________________________________________________\n",
      "max_pooling2d_14 (MaxPooling (None, 14, 14, 512)       0         \n",
      "_________________________________________________________________\n",
      "conv2d_37 (Conv2D)           (None, 14, 14, 512)       2359808   \n",
      "_________________________________________________________________\n",
      "conv2d_38 (Conv2D)           (None, 14, 14, 512)       2359808   \n",
      "_________________________________________________________________\n",
      "conv2d_39 (Conv2D)           (None, 14, 14, 512)       2359808   \n",
      "_________________________________________________________________\n",
      "max_pooling2d_15 (MaxPooling (None, 7, 7, 512)         0         \n",
      "_________________________________________________________________\n",
      "flatten_3 (Flatten)          (None, 25088)             0         \n",
      "_________________________________________________________________\n",
      "dense_7 (Dense)              (None, 4096)              102764544 \n",
      "_________________________________________________________________\n",
      "dense_8 (Dense)              (None, 4096)              16781312  \n",
      "_________________________________________________________________\n",
      "dense_9 (Dense)              (None, 10)                40970     \n",
      "=================================================================\n",
      "Total params: 134,301,514\n",
      "Trainable params: 134,301,514\n",
      "Non-trainable params: 0\n",
      "_________________________________________________________________\n",
      "None\n"
     ]
    }
   ],
   "source": [
    "# Create Model\n",
    "model = Sequential()\n",
    "model.add(Conv2D(filters=64,kernel_size=(3,3),strides=(1,1),padding='same',input_shape=(224,224,3),activation='relu'))\n",
    "model.add(Conv2D(filters=64,kernel_size=(3,3),strides=(1,1),padding='same',activation='relu'))\n",
    "\n",
    "model.add(MaxPooling2D(pool_size=(2,2),strides=(2,2),padding='valid'))\n",
    "model.add(Conv2D(128,(3,3),padding='same',activation='relu'))\n",
    "model.add(Conv2D(128,(3,3),padding='same',activation='relu'))\n",
    "\n",
    "model.add(MaxPooling2D((2,2)))\n",
    "model.add(Conv2D(256,(3,3),padding='same',activation='relu'))\n",
    "model.add(Conv2D(256,(3,3),padding='same',activation='relu'))\n",
    "model.add(Conv2D(256,(3,3),padding='same',activation='relu'))\n",
    "\n",
    "model.add(MaxPooling2D((2,2)))\n",
    "model.add(Conv2D(512,(3,3),padding='same',activation='relu'))\n",
    "model.add(Conv2D(512,(3,3),padding='same',activation='relu'))\n",
    "model.add(Conv2D(512,(3,3),padding='same',activation='relu'))\n",
    "\n",
    "model.add(MaxPooling2D((2,2)))\n",
    "model.add(Conv2D(512,(3,3),padding='same',activation='relu'))\n",
    "model.add(Conv2D(512,(3,3),padding='same',activation='relu'))\n",
    "model.add(Conv2D(512,(3,3),padding='same',activation='relu'))\n",
    "\n",
    "model.add(MaxPooling2D((2,2)))\n",
    "model.add(Flatten())\n",
    "model.add(Dense(4096,activation='relu'))\n",
    "model.add(Dense(4096,activation='relu'))\n",
    "model.add(Dense(10,activation='softmax'))\n",
    "print (model.summary())"
   ]
  },
  {
   "cell_type": "code",
   "execution_count": 19,
   "metadata": {},
   "outputs": [],
   "source": [
    "import keras\n",
    "model.compile(loss=keras.losses.categorical_crossentropy,\n",
    "              optimizer = keras.optimizers.SGD(lr=0.005, decay=1e-6, momentum=0.9, nesterov=True),\n",
    "              metrics=['accuracy'])"
   ]
  },
  {
   "cell_type": "code",
   "execution_count": 21,
   "metadata": {},
   "outputs": [
    {
     "name": "stdout",
     "output_type": "stream",
     "text": [
      "Found 13000 images belonging to 10 classes.\n",
      "Found 500 images belonging to 10 classes.\n"
     ]
    }
   ],
   "source": [
    "\n",
    "batch_size = 32\n",
    " \n",
    "\n",
    "#实例化对象datagen\n",
    "datagen=ImageDataGenerator()   \n",
    " \n",
    "#读训练集图片\n",
    "train_generator = datagen.flow_from_directory(\n",
    "    'e:/tensorflow/data/ImageNet/train10',\n",
    "    target_size=(224, 224),\n",
    "    class_mode='categorical',\n",
    "    batch_size=batch_size)\n",
    "\n",
    "validation_generator = datagen.flow_from_directory(\n",
    "    'e:/tensorflow/data/ImageNet/val10',\n",
    "    target_size=(224, 224),\n",
    "    class_mode='categorical',\n",
    "    batch_size=batch_size)\n",
    " "
   ]
  },
  {
   "cell_type": "code",
   "execution_count": 6,
   "metadata": {},
   "outputs": [
    {
     "name": "stdout",
     "output_type": "stream",
     "text": [
      "checkpoints/vgg16-train10\n"
     ]
    }
   ],
   "source": [
    "import os\n",
    "checkpoint_path = \"checkpoints/vgg16-train10/checkpoint-weights_only-epoch{epoch:04d}-accuracy{accuracy:.4f}.ckpt\"\n",
    "checkpoint_dir = os.path.dirname(checkpoint_path)\n",
    "print(checkpoint_dir)\n",
    "cp_callback=ModelCheckpoint(checkpoint_path, verbose=1, save_weights_only=True,period=1)"
   ]
  },
  {
   "cell_type": "code",
   "execution_count": 9,
   "metadata": {},
   "outputs": [],
   "source": [
    "model.save('checkpoints/vgg16-train10/model.h5')"
   ]
  },
  {
   "cell_type": "code",
   "execution_count": 20,
   "metadata": {},
   "outputs": [
    {
     "name": "stdout",
     "output_type": "stream",
     "text": [
      "Epoch 1/50\n",
      "407/406 [==============================] - 184s 452ms/step - loss: 2.2819 - accuracy: 0.1275\n",
      "\n",
      "Epoch 00001: saving model to checkpoints/vgg16-train10/checkpoint-weights_only-epoch0001-accuracy0.1275.ckpt\n",
      "Epoch 2/50\n",
      "407/406 [==============================] - 184s 451ms/step - loss: 1.8038 - accuracy: 0.3075\n",
      "\n",
      "Epoch 00002: saving model to checkpoints/vgg16-train10/checkpoint-weights_only-epoch0002-accuracy0.3075.ckpt\n",
      "Epoch 3/50\n",
      "407/406 [==============================] - 183s 450ms/step - loss: 1.4517 - accuracy: 0.4428\n",
      "\n",
      "Epoch 00003: saving model to checkpoints/vgg16-train10/checkpoint-weights_only-epoch0003-accuracy0.4428.ckpt\n",
      "Epoch 4/50\n",
      "407/406 [==============================] - 184s 452ms/step - loss: 1.3380 - accuracy: 0.4882\n",
      "\n",
      "Epoch 00004: saving model to checkpoints/vgg16-train10/checkpoint-weights_only-epoch0004-accuracy0.4882.ckpt\n",
      "Epoch 5/50\n",
      "407/406 [==============================] - 185s 453ms/step - loss: 1.2402 - accuracy: 0.5239\n",
      "\n",
      "Epoch 00005: saving model to checkpoints/vgg16-train10/checkpoint-weights_only-epoch0005-accuracy0.5239.ckpt\n",
      "Epoch 6/50\n",
      "407/406 [==============================] - 184s 453ms/step - loss: 1.1461 - accuracy: 0.5604\n",
      "\n",
      "Epoch 00006: saving model to checkpoints/vgg16-train10/checkpoint-weights_only-epoch0006-accuracy0.5604.ckpt\n",
      "Epoch 7/50\n",
      "407/406 [==============================] - 184s 452ms/step - loss: 1.0597 - accuracy: 0.5935\n",
      "\n",
      "Epoch 00007: saving model to checkpoints/vgg16-train10/checkpoint-weights_only-epoch0007-accuracy0.5935.ckpt\n",
      "Epoch 8/50\n",
      "407/406 [==============================] - 184s 452ms/step - loss: 0.9523 - accuracy: 0.6355\n",
      "\n",
      "Epoch 00008: saving model to checkpoints/vgg16-train10/checkpoint-weights_only-epoch0008-accuracy0.6355.ckpt\n",
      "Epoch 9/50\n",
      "407/406 [==============================] - 184s 453ms/step - loss: 0.8617 - accuracy: 0.6686\n",
      "\n",
      "Epoch 00009: saving model to checkpoints/vgg16-train10/checkpoint-weights_only-epoch0009-accuracy0.6686.ckpt\n",
      "Epoch 10/50\n",
      "407/406 [==============================] - 184s 451ms/step - loss: 0.7794 - accuracy: 0.7005\n",
      "\n",
      "Epoch 00010: saving model to checkpoints/vgg16-train10/checkpoint-weights_only-epoch0010-accuracy0.7005.ckpt\n",
      "Epoch 11/50\n",
      "407/406 [==============================] - 184s 452ms/step - loss: 0.6544 - accuracy: 0.7552\n",
      "\n",
      "Epoch 00011: saving model to checkpoints/vgg16-train10/checkpoint-weights_only-epoch0011-accuracy0.7552.ckpt\n",
      "Epoch 12/50\n",
      "407/406 [==============================] - 184s 452ms/step - loss: 0.5864 - accuracy: 0.7851\n",
      "\n",
      "Epoch 00012: saving model to checkpoints/vgg16-train10/checkpoint-weights_only-epoch0012-accuracy0.7851.ckpt\n",
      "Epoch 13/50\n",
      "407/406 [==============================] - 184s 453ms/step - loss: 0.5362 - accuracy: 0.8062\n",
      "\n",
      "Epoch 00013: saving model to checkpoints/vgg16-train10/checkpoint-weights_only-epoch0013-accuracy0.8062.ckpt\n",
      "Epoch 14/50\n",
      "407/406 [==============================] - 184s 452ms/step - loss: 0.4536 - accuracy: 0.8374\n",
      "\n",
      "Epoch 00014: saving model to checkpoints/vgg16-train10/checkpoint-weights_only-epoch0014-accuracy0.8374.ckpt\n",
      "Epoch 15/50\n",
      "407/406 [==============================] - 184s 452ms/step - loss: 0.3767 - accuracy: 0.8692 - loss: 0.3763 - accuracy: 0.86\n",
      "\n",
      "Epoch 00015: saving model to checkpoints/vgg16-train10/checkpoint-weights_only-epoch0015-accuracy0.8692.ckpt\n",
      "Epoch 16/50\n",
      "407/406 [==============================] - 184s 452ms/step - loss: 0.3152 - accuracy: 0.8942\n",
      "\n",
      "Epoch 00016: saving model to checkpoints/vgg16-train10/checkpoint-weights_only-epoch0016-accuracy0.8942.ckpt\n",
      "Epoch 17/50\n",
      "407/406 [==============================] - 184s 452ms/step - loss: 0.2901 - accuracy: 0.9076\n",
      "\n",
      "Epoch 00017: saving model to checkpoints/vgg16-train10/checkpoint-weights_only-epoch0017-accuracy0.9076.ckpt\n",
      "Epoch 18/50\n",
      "407/406 [==============================] - 184s 452ms/step - loss: 0.2077 - accuracy: 0.9326\n",
      "\n",
      "Epoch 00018: saving model to checkpoints/vgg16-train10/checkpoint-weights_only-epoch0018-accuracy0.9326.ckpt\n",
      "Epoch 19/50\n",
      "407/406 [==============================] - 184s 452ms/step - loss: 0.1966 - accuracy: 0.9362\n",
      "\n",
      "Epoch 00019: saving model to checkpoints/vgg16-train10/checkpoint-weights_only-epoch0019-accuracy0.9362.ckpt\n",
      "Epoch 20/50\n",
      "407/406 [==============================] - 184s 452ms/step - loss: 0.1989 - accuracy: 0.9362\n",
      "\n",
      "Epoch 00020: saving model to checkpoints/vgg16-train10/checkpoint-weights_only-epoch0020-accuracy0.9362.ckpt\n",
      "Epoch 21/50\n",
      "407/406 [==============================] - 184s 452ms/step - loss: 0.1792 - accuracy: 0.9468\n",
      "\n",
      "Epoch 00021: saving model to checkpoints/vgg16-train10/checkpoint-weights_only-epoch0021-accuracy0.9468.ckpt\n",
      "Epoch 22/50\n",
      "407/406 [==============================] - 185s 453ms/step - loss: 0.1293 - accuracy: 0.9579\n",
      "\n",
      "Epoch 00022: saving model to checkpoints/vgg16-train10/checkpoint-weights_only-epoch0022-accuracy0.9579.ckpt\n",
      "Epoch 23/50\n",
      "407/406 [==============================] - 185s 454ms/step - loss: 0.0873 - accuracy: 0.9746\n",
      "\n",
      "Epoch 00023: saving model to checkpoints/vgg16-train10/checkpoint-weights_only-epoch0023-accuracy0.9746.ckpt\n",
      "Epoch 24/50\n",
      "407/406 [==============================] - 184s 453ms/step - loss: 0.0778 - accuracy: 0.9765\n",
      "\n",
      "Epoch 00024: saving model to checkpoints/vgg16-train10/checkpoint-weights_only-epoch0024-accuracy0.9765.ckpt\n",
      "Epoch 25/50\n",
      "407/406 [==============================] - 185s 454ms/step - loss: 0.0885 - accuracy: 0.9741\n",
      "\n",
      "Epoch 00025: saving model to checkpoints/vgg16-train10/checkpoint-weights_only-epoch0025-accuracy0.9741.ckpt\n",
      "Epoch 26/50\n",
      "407/406 [==============================] - 184s 453ms/step - loss: 0.0672 - accuracy: 0.9797\n",
      "\n",
      "Epoch 00026: saving model to checkpoints/vgg16-train10/checkpoint-weights_only-epoch0026-accuracy0.9797.ckpt\n",
      "Epoch 27/50\n",
      "407/406 [==============================] - 184s 453ms/step - loss: 0.0483 - accuracy: 0.9854\n",
      "\n",
      "Epoch 00027: saving model to checkpoints/vgg16-train10/checkpoint-weights_only-epoch0027-accuracy0.9854.ckpt\n",
      "Epoch 28/50\n",
      "407/406 [==============================] - 184s 453ms/step - loss: 0.0495 - accuracy: 0.9857\n",
      "\n",
      "Epoch 00028: saving model to checkpoints/vgg16-train10/checkpoint-weights_only-epoch0028-accuracy0.9857.ckpt\n",
      "Epoch 29/50\n",
      "407/406 [==============================] - 185s 453ms/step - loss: 0.0681 - accuracy: 0.9801\n",
      "\n",
      "Epoch 00029: saving model to checkpoints/vgg16-train10/checkpoint-weights_only-epoch0029-accuracy0.9801.ckpt\n",
      "Epoch 30/50\n",
      "407/406 [==============================] - 185s 454ms/step - loss: 0.0406 - accuracy: 0.9867\n",
      "\n",
      "Epoch 00030: saving model to checkpoints/vgg16-train10/checkpoint-weights_only-epoch0030-accuracy0.9867.ckpt\n",
      "Epoch 31/50\n",
      "407/406 [==============================] - 185s 454ms/step - loss: 0.0374 - accuracy: 0.9876\n",
      "\n",
      "Epoch 00031: saving model to checkpoints/vgg16-train10/checkpoint-weights_only-epoch0031-accuracy0.9876.ckpt\n",
      "Epoch 32/50\n",
      "407/406 [==============================] - 184s 452ms/step - loss: 0.0417 - accuracy: 0.9867\n",
      "\n",
      "Epoch 00032: saving model to checkpoints/vgg16-train10/checkpoint-weights_only-epoch0032-accuracy0.9867.ckpt\n",
      "Epoch 33/50\n",
      "407/406 [==============================] - 184s 452ms/step - loss: 0.0216 - accuracy: 0.9935\n",
      "\n",
      "Epoch 00033: saving model to checkpoints/vgg16-train10/checkpoint-weights_only-epoch0033-accuracy0.9935.ckpt\n",
      "Epoch 34/50\n",
      "407/406 [==============================] - 184s 452ms/step - loss: 0.0241 - accuracy: 0.9923\n",
      "\n",
      "Epoch 00034: saving model to checkpoints/vgg16-train10/checkpoint-weights_only-epoch0034-accuracy0.9923.ckpt\n",
      "Epoch 35/50\n",
      "407/406 [==============================] - 184s 452ms/step - loss: 0.0356 - accuracy: 0.9879\n",
      "\n",
      "Epoch 00035: saving model to checkpoints/vgg16-train10/checkpoint-weights_only-epoch0035-accuracy0.9879.ckpt\n",
      "Epoch 36/50\n",
      " 29/406 [=>............................] - ETA: 2:50 - loss: 0.0222 - accuracy: 0.9903"
     ]
    },
    {
     "ename": "KeyboardInterrupt",
     "evalue": "",
     "output_type": "error",
     "traceback": [
      "\u001b[1;31m---------------------------------------------------------------------------\u001b[0m",
      "\u001b[1;31mKeyboardInterrupt\u001b[0m                         Traceback (most recent call last)",
      "\u001b[1;32m<ipython-input-20-3bf96b637fd6>\u001b[0m in \u001b[0;36m<module>\u001b[1;34m\u001b[0m\n\u001b[0;32m      1\u001b[0m model.fit_generator(generator=train_generator,steps_per_epoch=13000/batch_size,epochs=50\n\u001b[1;32m----> 2\u001b[1;33m                    ,callbacks=[cp_callback])\n\u001b[0m\u001b[0;32m      3\u001b[0m                    \u001b[1;31m#,validation_data=validation_generator,validation_steps=32)\u001b[0m\u001b[1;33m\u001b[0m\u001b[1;33m\u001b[0m\u001b[1;33m\u001b[0m\u001b[0m\n",
      "\u001b[1;32mC:\\ProgramData\\Anaconda3\\envs\\tf-gpu\\lib\\site-packages\\keras\\legacy\\interfaces.py\u001b[0m in \u001b[0;36mwrapper\u001b[1;34m(*args, **kwargs)\u001b[0m\n\u001b[0;32m     89\u001b[0m                 warnings.warn('Update your `' + object_name + '` call to the ' +\n\u001b[0;32m     90\u001b[0m                               'Keras 2 API: ' + signature, stacklevel=2)\n\u001b[1;32m---> 91\u001b[1;33m             \u001b[1;32mreturn\u001b[0m \u001b[0mfunc\u001b[0m\u001b[1;33m(\u001b[0m\u001b[1;33m*\u001b[0m\u001b[0margs\u001b[0m\u001b[1;33m,\u001b[0m \u001b[1;33m**\u001b[0m\u001b[0mkwargs\u001b[0m\u001b[1;33m)\u001b[0m\u001b[1;33m\u001b[0m\u001b[1;33m\u001b[0m\u001b[0m\n\u001b[0m\u001b[0;32m     92\u001b[0m         \u001b[0mwrapper\u001b[0m\u001b[1;33m.\u001b[0m\u001b[0m_original_function\u001b[0m \u001b[1;33m=\u001b[0m \u001b[0mfunc\u001b[0m\u001b[1;33m\u001b[0m\u001b[1;33m\u001b[0m\u001b[0m\n\u001b[0;32m     93\u001b[0m         \u001b[1;32mreturn\u001b[0m \u001b[0mwrapper\u001b[0m\u001b[1;33m\u001b[0m\u001b[1;33m\u001b[0m\u001b[0m\n",
      "\u001b[1;32mC:\\ProgramData\\Anaconda3\\envs\\tf-gpu\\lib\\site-packages\\keras\\engine\\training.py\u001b[0m in \u001b[0;36mfit_generator\u001b[1;34m(self, generator, steps_per_epoch, epochs, verbose, callbacks, validation_data, validation_steps, validation_freq, class_weight, max_queue_size, workers, use_multiprocessing, shuffle, initial_epoch)\u001b[0m\n\u001b[0;32m   1730\u001b[0m             \u001b[0muse_multiprocessing\u001b[0m\u001b[1;33m=\u001b[0m\u001b[0muse_multiprocessing\u001b[0m\u001b[1;33m,\u001b[0m\u001b[1;33m\u001b[0m\u001b[1;33m\u001b[0m\u001b[0m\n\u001b[0;32m   1731\u001b[0m             \u001b[0mshuffle\u001b[0m\u001b[1;33m=\u001b[0m\u001b[0mshuffle\u001b[0m\u001b[1;33m,\u001b[0m\u001b[1;33m\u001b[0m\u001b[1;33m\u001b[0m\u001b[0m\n\u001b[1;32m-> 1732\u001b[1;33m             initial_epoch=initial_epoch)\n\u001b[0m\u001b[0;32m   1733\u001b[0m \u001b[1;33m\u001b[0m\u001b[0m\n\u001b[0;32m   1734\u001b[0m     \u001b[1;33m@\u001b[0m\u001b[0minterfaces\u001b[0m\u001b[1;33m.\u001b[0m\u001b[0mlegacy_generator_methods_support\u001b[0m\u001b[1;33m\u001b[0m\u001b[1;33m\u001b[0m\u001b[0m\n",
      "\u001b[1;32mC:\\ProgramData\\Anaconda3\\envs\\tf-gpu\\lib\\site-packages\\keras\\engine\\training_generator.py\u001b[0m in \u001b[0;36mfit_generator\u001b[1;34m(model, generator, steps_per_epoch, epochs, verbose, callbacks, validation_data, validation_steps, validation_freq, class_weight, max_queue_size, workers, use_multiprocessing, shuffle, initial_epoch)\u001b[0m\n\u001b[0;32m    218\u001b[0m                                             \u001b[0msample_weight\u001b[0m\u001b[1;33m=\u001b[0m\u001b[0msample_weight\u001b[0m\u001b[1;33m,\u001b[0m\u001b[1;33m\u001b[0m\u001b[1;33m\u001b[0m\u001b[0m\n\u001b[0;32m    219\u001b[0m                                             \u001b[0mclass_weight\u001b[0m\u001b[1;33m=\u001b[0m\u001b[0mclass_weight\u001b[0m\u001b[1;33m,\u001b[0m\u001b[1;33m\u001b[0m\u001b[1;33m\u001b[0m\u001b[0m\n\u001b[1;32m--> 220\u001b[1;33m                                             reset_metrics=False)\n\u001b[0m\u001b[0;32m    221\u001b[0m \u001b[1;33m\u001b[0m\u001b[0m\n\u001b[0;32m    222\u001b[0m                 \u001b[0mouts\u001b[0m \u001b[1;33m=\u001b[0m \u001b[0mto_list\u001b[0m\u001b[1;33m(\u001b[0m\u001b[0mouts\u001b[0m\u001b[1;33m)\u001b[0m\u001b[1;33m\u001b[0m\u001b[1;33m\u001b[0m\u001b[0m\n",
      "\u001b[1;32mC:\\ProgramData\\Anaconda3\\envs\\tf-gpu\\lib\\site-packages\\keras\\engine\\training.py\u001b[0m in \u001b[0;36mtrain_on_batch\u001b[1;34m(self, x, y, sample_weight, class_weight, reset_metrics)\u001b[0m\n\u001b[0;32m   1512\u001b[0m             \u001b[0mins\u001b[0m \u001b[1;33m=\u001b[0m \u001b[0mx\u001b[0m \u001b[1;33m+\u001b[0m \u001b[0my\u001b[0m \u001b[1;33m+\u001b[0m \u001b[0msample_weights\u001b[0m\u001b[1;33m\u001b[0m\u001b[1;33m\u001b[0m\u001b[0m\n\u001b[0;32m   1513\u001b[0m         \u001b[0mself\u001b[0m\u001b[1;33m.\u001b[0m\u001b[0m_make_train_function\u001b[0m\u001b[1;33m(\u001b[0m\u001b[1;33m)\u001b[0m\u001b[1;33m\u001b[0m\u001b[1;33m\u001b[0m\u001b[0m\n\u001b[1;32m-> 1514\u001b[1;33m         \u001b[0moutputs\u001b[0m \u001b[1;33m=\u001b[0m \u001b[0mself\u001b[0m\u001b[1;33m.\u001b[0m\u001b[0mtrain_function\u001b[0m\u001b[1;33m(\u001b[0m\u001b[0mins\u001b[0m\u001b[1;33m)\u001b[0m\u001b[1;33m\u001b[0m\u001b[1;33m\u001b[0m\u001b[0m\n\u001b[0m\u001b[0;32m   1515\u001b[0m \u001b[1;33m\u001b[0m\u001b[0m\n\u001b[0;32m   1516\u001b[0m         \u001b[1;32mif\u001b[0m \u001b[0mreset_metrics\u001b[0m\u001b[1;33m:\u001b[0m\u001b[1;33m\u001b[0m\u001b[1;33m\u001b[0m\u001b[0m\n",
      "\u001b[1;32mC:\\ProgramData\\Anaconda3\\envs\\tf-gpu\\lib\\site-packages\\tensorflow_core\\python\\keras\\backend.py\u001b[0m in \u001b[0;36m__call__\u001b[1;34m(self, inputs)\u001b[0m\n\u001b[0;32m   3733\u001b[0m     return nest.pack_sequence_as(\n\u001b[0;32m   3734\u001b[0m         \u001b[0mself\u001b[0m\u001b[1;33m.\u001b[0m\u001b[0m_outputs_structure\u001b[0m\u001b[1;33m,\u001b[0m\u001b[1;33m\u001b[0m\u001b[1;33m\u001b[0m\u001b[0m\n\u001b[1;32m-> 3735\u001b[1;33m         \u001b[1;33m[\u001b[0m\u001b[0mx\u001b[0m\u001b[1;33m.\u001b[0m\u001b[0m_numpy\u001b[0m\u001b[1;33m(\u001b[0m\u001b[1;33m)\u001b[0m \u001b[1;32mfor\u001b[0m \u001b[0mx\u001b[0m \u001b[1;32min\u001b[0m \u001b[0moutputs\u001b[0m\u001b[1;33m]\u001b[0m\u001b[1;33m,\u001b[0m  \u001b[1;31m# pylint: disable=protected-access\u001b[0m\u001b[1;33m\u001b[0m\u001b[1;33m\u001b[0m\u001b[0m\n\u001b[0m\u001b[0;32m   3736\u001b[0m         expand_composites=True)\n\u001b[0;32m   3737\u001b[0m \u001b[1;33m\u001b[0m\u001b[0m\n",
      "\u001b[1;32mC:\\ProgramData\\Anaconda3\\envs\\tf-gpu\\lib\\site-packages\\tensorflow_core\\python\\keras\\backend.py\u001b[0m in \u001b[0;36m<listcomp>\u001b[1;34m(.0)\u001b[0m\n\u001b[0;32m   3733\u001b[0m     return nest.pack_sequence_as(\n\u001b[0;32m   3734\u001b[0m         \u001b[0mself\u001b[0m\u001b[1;33m.\u001b[0m\u001b[0m_outputs_structure\u001b[0m\u001b[1;33m,\u001b[0m\u001b[1;33m\u001b[0m\u001b[1;33m\u001b[0m\u001b[0m\n\u001b[1;32m-> 3735\u001b[1;33m         \u001b[1;33m[\u001b[0m\u001b[0mx\u001b[0m\u001b[1;33m.\u001b[0m\u001b[0m_numpy\u001b[0m\u001b[1;33m(\u001b[0m\u001b[1;33m)\u001b[0m \u001b[1;32mfor\u001b[0m \u001b[0mx\u001b[0m \u001b[1;32min\u001b[0m \u001b[0moutputs\u001b[0m\u001b[1;33m]\u001b[0m\u001b[1;33m,\u001b[0m  \u001b[1;31m# pylint: disable=protected-access\u001b[0m\u001b[1;33m\u001b[0m\u001b[1;33m\u001b[0m\u001b[0m\n\u001b[0m\u001b[0;32m   3736\u001b[0m         expand_composites=True)\n\u001b[0;32m   3737\u001b[0m \u001b[1;33m\u001b[0m\u001b[0m\n",
      "\u001b[1;32mC:\\ProgramData\\Anaconda3\\envs\\tf-gpu\\lib\\site-packages\\tensorflow_core\\python\\framework\\ops.py\u001b[0m in \u001b[0;36m_numpy\u001b[1;34m(self)\u001b[0m\n\u001b[0;32m    906\u001b[0m     \u001b[1;31m# pylint: disable=protected-access\u001b[0m\u001b[1;33m\u001b[0m\u001b[1;33m\u001b[0m\u001b[1;33m\u001b[0m\u001b[0m\n\u001b[0;32m    907\u001b[0m     \u001b[1;32mtry\u001b[0m\u001b[1;33m:\u001b[0m\u001b[1;33m\u001b[0m\u001b[1;33m\u001b[0m\u001b[0m\n\u001b[1;32m--> 908\u001b[1;33m       \u001b[1;32mreturn\u001b[0m \u001b[0mself\u001b[0m\u001b[1;33m.\u001b[0m\u001b[0m_numpy_internal\u001b[0m\u001b[1;33m(\u001b[0m\u001b[1;33m)\u001b[0m\u001b[1;33m\u001b[0m\u001b[1;33m\u001b[0m\u001b[0m\n\u001b[0m\u001b[0;32m    909\u001b[0m     \u001b[1;32mexcept\u001b[0m \u001b[0mcore\u001b[0m\u001b[1;33m.\u001b[0m\u001b[0m_NotOkStatusException\u001b[0m \u001b[1;32mas\u001b[0m \u001b[0me\u001b[0m\u001b[1;33m:\u001b[0m\u001b[1;33m\u001b[0m\u001b[1;33m\u001b[0m\u001b[0m\n\u001b[0;32m    910\u001b[0m       \u001b[0msix\u001b[0m\u001b[1;33m.\u001b[0m\u001b[0mraise_from\u001b[0m\u001b[1;33m(\u001b[0m\u001b[0mcore\u001b[0m\u001b[1;33m.\u001b[0m\u001b[0m_status_to_exception\u001b[0m\u001b[1;33m(\u001b[0m\u001b[0me\u001b[0m\u001b[1;33m.\u001b[0m\u001b[0mcode\u001b[0m\u001b[1;33m,\u001b[0m \u001b[0me\u001b[0m\u001b[1;33m.\u001b[0m\u001b[0mmessage\u001b[0m\u001b[1;33m)\u001b[0m\u001b[1;33m,\u001b[0m \u001b[1;32mNone\u001b[0m\u001b[1;33m)\u001b[0m\u001b[1;33m\u001b[0m\u001b[1;33m\u001b[0m\u001b[0m\n",
      "\u001b[1;31mKeyboardInterrupt\u001b[0m: "
     ]
    }
   ],
   "source": [
    "model.fit_generator(generator=train_generator,steps_per_epoch=13000/batch_size,epochs=50\n",
    "                   ,callbacks=[cp_callback])\n",
    "                   #,validation_data=validation_generator,validation_steps=32)\n"
   ]
  },
  {
   "cell_type": "code",
   "execution_count": 29,
   "metadata": {},
   "outputs": [
    {
     "data": {
      "text/plain": [
       "[0.9037704467773438, 0.5199999809265137]"
      ]
     },
     "execution_count": 29,
     "metadata": {},
     "output_type": "execute_result"
    }
   ],
   "source": [
    "model.load_weights('./checkpoints/vgg16-train10/checkpoint-weights_only-epoch0016-accuracy0.8942.ckpt')\n",
    "model.evaluate_generator(generator=validation_generator)"
   ]
  },
  {
   "cell_type": "code",
   "execution_count": null,
   "metadata": {},
   "outputs": [],
   "source": []
  }
 ],
 "metadata": {
  "kernelspec": {
   "display_name": "Python 3",
   "language": "python",
   "name": "python3"
  },
  "language_info": {
   "codemirror_mode": {
    "name": "ipython",
    "version": 3
   },
   "file_extension": ".py",
   "mimetype": "text/x-python",
   "name": "python",
   "nbconvert_exporter": "python",
   "pygments_lexer": "ipython3",
   "version": "3.7.6"
  }
 },
 "nbformat": 4,
 "nbformat_minor": 4
}
