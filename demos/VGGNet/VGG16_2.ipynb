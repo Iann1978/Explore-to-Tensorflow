{
 "cells": [
  {
   "cell_type": "code",
   "execution_count": 1,
   "metadata": {},
   "outputs": [
    {
     "name": "stderr",
     "output_type": "stream",
     "text": [
      "Using TensorFlow backend.\n"
     ]
    }
   ],
   "source": [
    "\n",
    "#!/usr/bin/env python3\n",
    "# -*- coding: utf-8 -*-\n",
    "\"\"\"\n",
    "Created on Wed Jul 24 19:19:43 2019\n",
    "@author: sb\n",
    "\"\"\"\n",
    " \n",
    "from keras.models import Sequential, Model\n",
    "from keras.layers.pooling import GlobalAveragePooling2D\n",
    "from keras.layers import Dense,Conv2D,MaxPooling2D,Dropout\n",
    "from keras.preprocessing.image import ImageDataGenerator\n",
    "from keras import optimizers\n",
    "from keras.applications.vgg16 import VGG16\n",
    "from keras.callbacks import TensorBoard\n",
    "from keras.utils import plot_model\n",
    "#from keras.utils.np_utils import to_categorical\n",
    "#import matplotlib.pyplot as plt\n",
    " "
   ]
  },
  {
   "cell_type": "code",
   "execution_count": 2,
   "metadata": {},
   "outputs": [
    {
     "name": "stdout",
     "output_type": "stream",
     "text": [
      "Found 2600 images belonging to 2 classes.\n",
      "Found 2600 images belonging to 2 classes.\n"
     ]
    }
   ],
   "source": [
    "\n",
    "num_classes = 2\n",
    "img_rows,img_cols = 224,224\n",
    "batch_size = 64\n",
    "input_shape = (img_rows,img_cols,3)\n",
    " \n",
    "datagen=ImageDataGenerator()   \n",
    "train_generator = datagen.flow_from_directory(\n",
    "    'e:/tensorflow/data/ImageNet/train02',\n",
    "    target_size=(224, 224),\n",
    "    class_mode='categorical',\n",
    "    batch_size=batch_size)\n",
    " \n",
    "#读验证集图片\n",
    "validation_generator = datagen.flow_from_directory(\n",
    "    'e:/tensorflow/data/ImageNet/train02',\n",
    "    classes=['bird','dog'],\n",
    "    target_size=(224, 224),\n",
    "    class_mode='categorical',\n",
    "    batch_size=batch_size)\n",
    " \n",
    " "
   ]
  },
  {
   "cell_type": "code",
   "execution_count": null,
   "metadata": {},
   "outputs": [
    {
     "name": "stdout",
     "output_type": "stream",
     "text": [
      "Downloading data from https://github.com/fchollet/deep-learning-models/releases/download/v0.1/vgg16_weights_tf_dim_ordering_tf_kernels_notop.h5\n",
      "14966784/58889256 [======>.......................] - ETA: 5:13:08"
     ]
    }
   ],
   "source": [
    "\n",
    "vgg16 = VGG16(include_top=False, weights='imagenet',input_shape=input_shape)\n",
    "    \n",
    "for layer in vgg16.layers:\n",
    "    layer.trainable = False\n",
    "   # if layer.name=='block5_conv1':\n",
    "   #     trainable=True\n",
    "model = Sequential()\n",
    "model.add(vgg16)\n",
    "model.add(GlobalAveragePooling2D())\n",
    "model.add(Dense(1024, activation='relu'))\n",
    "model.add(Dropout(0.5))\n",
    "model.add(Dense(512, activation='relu'))\n",
    "model.add(Dropout(0.5))\n",
    "model.add(Dense(num_classes, activation='softmax'))\n",
    "#model.load_weights('outputs/weights_vgg16_use.h5')\n",
    " \n",
    "model.summary()\n",
    "\n",
    "\n"
   ]
  },
  {
   "cell_type": "code",
   "execution_count": null,
   "metadata": {},
   "outputs": [],
   "source": [
    "model.compile(loss='categorical_crossentropy',optimizer = optimizers.Adam(0.0001), metrics = ['accuracy'])\n"
   ]
  },
  {
   "cell_type": "code",
   "execution_count": null,
   "metadata": {},
   "outputs": [],
   "source": [
    "#使用tensorboard查看训练過程\n",
    "tb = TensorBoard(log_dir='/home/sb/kaggle/Dogs_vs_Cats',  # log 目录\n",
    "                 histogram_freq=0,  # 按照何等频率（epoch）来计算直方图，0为不计算\n",
    "                 batch_size=32,     # 用多大量的数据计算直方图\n",
    "                 write_graph=True,  # 是否存储网络结构图\n",
    "                 write_grads=True, # 是否可视化梯度直方图\n",
    "                 write_images=True,# 是否可视化参数\n",
    "                 embeddings_freq=0, \n",
    "                 embeddings_layer_names=None, \n",
    "                 embeddings_metadata=None)\n",
    "callbacks = [tb]\n",
    " \n",
    " \n",
    "history = model.fit_generator(\n",
    "        generator=train_generator,\n",
    "        steps_per_epoch=100,\n",
    "        epochs=6,\n",
    "        callbacks = callbacks,\n",
    "        validation_data=validation_generator,\n",
    "        validation_steps=32\n",
    "       # callbacks=[TensorBoard(log_dir='logs/3')]\n",
    "        )\n",
    " \n",
    "model.save_weights('my_weights_vgg16_use.h5')"
   ]
  }
 ],
 "metadata": {
  "kernelspec": {
   "display_name": "Python 3",
   "language": "python",
   "name": "python3"
  },
  "language_info": {
   "codemirror_mode": {
    "name": "ipython",
    "version": 3
   },
   "file_extension": ".py",
   "mimetype": "text/x-python",
   "name": "python",
   "nbconvert_exporter": "python",
   "pygments_lexer": "ipython3",
   "version": "3.7.6"
  }
 },
 "nbformat": 4,
 "nbformat_minor": 4
}
